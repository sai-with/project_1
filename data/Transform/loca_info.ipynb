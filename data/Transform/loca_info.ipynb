{
 "cells": [
  {
   "cell_type": "code",
   "execution_count": 1,
   "metadata": {},
   "outputs": [],
   "source": [
    "import pandas as pd\n",
    "\n",
    "hotel = pd.read_csv('./hotel.csv')\n",
    "pension = pd.read_csv('./pension.csv')"
   ]
  },
  {
   "cell_type": "code",
   "execution_count": 10,
   "metadata": {},
   "outputs": [],
   "source": [
    "pd.set_option('display.max_seq_items', None) # 생략없이 출력하기"
   ]
  },
  {
   "cell_type": "code",
   "execution_count": 22,
   "metadata": {},
   "outputs": [],
   "source": [
    "# 호텔 이름 정보\n",
    "names = list(hotel.name.unique())"
   ]
  },
  {
   "cell_type": "code",
   "execution_count": 18,
   "metadata": {},
   "outputs": [
    {
     "data": {
      "text/plain": [
       "(159, 159)"
      ]
     },
     "execution_count": 18,
     "metadata": {},
     "output_type": "execute_result"
    }
   ],
   "source": [
    "location = ['동구', '부산진구', '부산진구', '기장군', '서구', '해운대구', '해운대구', '해운대구', '수영구', '부산진구', '중구', '동래구',\\\n",
    "    '연제구', '해운대구', '해운대구', '해운대구', '사하구', '해운대구', '영도구', '해운대구', '해운대구', '해운대구', '해운대구', '기장군', '해운대구', '수영구',\\\n",
    "    '중구', '부산진구', '해운대구', '해운대구', '기장군', '영도구', '해운대구', '서구', '동구', '중구', '부산진구', '부산진구', '해운대구', '수영구', '동구',\\\n",
    "    '동구', '중구', '기장군', '해운대구', '해운대구', '해운대구', '연제구', '수영구', '중구', '북구', '해운대구', '기장군', '해운대구', '부산진구', '해운대구', '해운대구', \\\n",
    "    '영도구', '중구', '영도구', '기장군', '해운대구', '기장군', '해운대구', '해운대구', '연제구', '해운대구', '부산진구', '동래', '중구', '수영구', '중구',\\\n",
    "    '수영구', '사상구', '부산진구', '동구', '수영구', '해운대구', '수영구', '해운대구', '해운대구', '해운대구', '부산진구', '중구', '중구', '강서구', '부산진구',\\\n",
    "    '서구', '수영구', '서구', '해운대구', '동구', '기장군', '중구', '동구', '강서구', '부산진구', '기장군', '동구', '중구', '북구', '사상구', '강서구', '해운대구',\\\n",
    "    '수영구', '중구', '사상구', '동구', '해운대구', '사상구', '중구', '부산진구', '서구', '강서구', '중구', '해운대구', '수영구', '해운대구', '중구', '북구', '동구', '부산진구',\\\n",
    "    '부산진구', '부산진구', '해운대구', '사상구', '부산진구', '수영구', '부산진구', '동구', '해운대구', '동구', '북구', '기장군', '중구', '강서구', '해운대구', '중구',\\\n",
    "    '동래구', '해운대구', '북구', '해운대구', '동구', '해운대구', '해운대구', '기장군', '부산진구', '부산진구', '부산진구', '중구', '해운대구', '영도구', '해운대구', '중구',\\\n",
    "    '연제구', '동구', '부산진구', '해운대구', '수영구']\n",
    "len(location), len(names)"
   ]
  },
  {
   "cell_type": "code",
   "execution_count": 20,
   "metadata": {},
   "outputs": [],
   "source": [
    "ht_name_dict = dict(zip(names, location))"
   ]
  },
  {
   "cell_type": "code",
   "execution_count": 33,
   "metadata": {},
   "outputs": [
    {
     "data": {
      "text/html": [
       "<div>\n",
       "<style scoped>\n",
       "    .dataframe tbody tr th:only-of-type {\n",
       "        vertical-align: middle;\n",
       "    }\n",
       "\n",
       "    .dataframe tbody tr th {\n",
       "        vertical-align: top;\n",
       "    }\n",
       "\n",
       "    .dataframe thead th {\n",
       "        text-align: right;\n",
       "    }\n",
       "</style>\n",
       "<table border=\"1\" class=\"dataframe\">\n",
       "  <thead>\n",
       "    <tr style=\"text-align: right;\">\n",
       "      <th></th>\n",
       "      <th>date</th>\n",
       "      <th>name</th>\n",
       "      <th>star</th>\n",
       "      <th>img</th>\n",
       "      <th>lowest_price</th>\n",
       "      <th>link</th>\n",
       "      <th>location</th>\n",
       "    </tr>\n",
       "  </thead>\n",
       "  <tbody>\n",
       "    <tr>\n",
       "      <th>0</th>\n",
       "      <td>2023-08-01</td>\n",
       "      <td>라마다 앙코르 바이 윈덤 부산역</td>\n",
       "      <td>8.4</td>\n",
       "      <td>https://search.pstatic.net/common/?src=https:/...</td>\n",
       "      <td>143550</td>\n",
       "      <td>https://hotels.naver.com/item?hotelFileName=ho...</td>\n",
       "      <td>동구</td>\n",
       "    </tr>\n",
       "    <tr>\n",
       "      <th>1</th>\n",
       "      <td>2023-08-01</td>\n",
       "      <td>티티호텔</td>\n",
       "      <td>8.5</td>\n",
       "      <td>https://search.pstatic.net/common/?src=https:/...</td>\n",
       "      <td>103097</td>\n",
       "      <td>https://hotels.naver.com/item?hotelFileName=ho...</td>\n",
       "      <td>부산진구</td>\n",
       "    </tr>\n",
       "    <tr>\n",
       "      <th>2</th>\n",
       "      <td>2023-08-01</td>\n",
       "      <td>부산 비즈니스 호텔</td>\n",
       "      <td>8.6</td>\n",
       "      <td>https://search.pstatic.net/common/?src=https:/...</td>\n",
       "      <td>92936</td>\n",
       "      <td>https://hotels.naver.com/item?hotelFileName=ho...</td>\n",
       "      <td>부산진구</td>\n",
       "    </tr>\n",
       "    <tr>\n",
       "      <th>3</th>\n",
       "      <td>2023-08-01</td>\n",
       "      <td>아난티 힐튼 부산</td>\n",
       "      <td>8.6</td>\n",
       "      <td>https://search.pstatic.net/common/?src=https:/...</td>\n",
       "      <td>729628</td>\n",
       "      <td>https://hotels.naver.com/item?hotelFileName=ho...</td>\n",
       "      <td>기장군</td>\n",
       "    </tr>\n",
       "    <tr>\n",
       "      <th>4</th>\n",
       "      <td>2023-08-01</td>\n",
       "      <td>그랩 디 오션 송도</td>\n",
       "      <td>8.2</td>\n",
       "      <td>https://search.pstatic.net/common/?src=https:/...</td>\n",
       "      <td>158400</td>\n",
       "      <td>https://hotels.naver.com/item?hotelFileName=ho...</td>\n",
       "      <td>서구</td>\n",
       "    </tr>\n",
       "  </tbody>\n",
       "</table>\n",
       "</div>"
      ],
      "text/plain": [
       "         date               name  star  \\\n",
       "0  2023-08-01  라마다 앙코르 바이 윈덤 부산역   8.4   \n",
       "1  2023-08-01               티티호텔   8.5   \n",
       "2  2023-08-01         부산 비즈니스 호텔   8.6   \n",
       "3  2023-08-01          아난티 힐튼 부산   8.6   \n",
       "4  2023-08-01         그랩 디 오션 송도   8.2   \n",
       "\n",
       "                                                 img  lowest_price  \\\n",
       "0  https://search.pstatic.net/common/?src=https:/...        143550   \n",
       "1  https://search.pstatic.net/common/?src=https:/...        103097   \n",
       "2  https://search.pstatic.net/common/?src=https:/...         92936   \n",
       "3  https://search.pstatic.net/common/?src=https:/...        729628   \n",
       "4  https://search.pstatic.net/common/?src=https:/...        158400   \n",
       "\n",
       "                                                link location  \n",
       "0  https://hotels.naver.com/item?hotelFileName=ho...       동구  \n",
       "1  https://hotels.naver.com/item?hotelFileName=ho...     부산진구  \n",
       "2  https://hotels.naver.com/item?hotelFileName=ho...     부산진구  \n",
       "3  https://hotels.naver.com/item?hotelFileName=ho...      기장군  \n",
       "4  https://hotels.naver.com/item?hotelFileName=ho...       서구  "
      ]
     },
     "execution_count": 33,
     "metadata": {},
     "output_type": "execute_result"
    }
   ],
   "source": [
    "def locating(row):\n",
    "    return ht_name_dict[row]\n",
    "hotel['location'] = hotel.name.apply(locating)\n",
    "\n",
    "hotel.head()\n"
   ]
  },
  {
   "cell_type": "code",
   "execution_count": 31,
   "metadata": {},
   "outputs": [
    {
     "data": {
      "text/plain": [
       "array(['더펜션 502', '일광 라고마르 펜션', '해오름펜션', '에스스테이펜션', '부산 비엔비 펜션 & 패밀리 호텔',\n",
       "       '그레이샌즈 풀빌라 펜션', '브라운도트펜션', '드림하우스', '알로하펜션', '오시리아펜션', '알리바바펜션',\n",
       "       '오투펜션', 'J&J 펜션', '가온펜션', '펜션 채움', '펜션드리머', '고운학리펜션', '앙스모멍 펜션',\n",
       "       '이너피스 펜션', '부산 아라하우스 펜션', '반딧불이 펜션', '시랑리 129 펜션', '서랑펜션', '다란향',\n",
       "       '송정로뎀나무펜션'], dtype=object)"
      ]
     },
     "execution_count": 31,
     "metadata": {},
     "output_type": "execute_result"
    }
   ],
   "source": [
    "ps_names = pension.name.unique()\n",
    "ps_names"
   ]
  },
  {
   "cell_type": "code",
   "execution_count": 32,
   "metadata": {},
   "outputs": [
    {
     "data": {
      "text/html": [
       "<div>\n",
       "<style scoped>\n",
       "    .dataframe tbody tr th:only-of-type {\n",
       "        vertical-align: middle;\n",
       "    }\n",
       "\n",
       "    .dataframe tbody tr th {\n",
       "        vertical-align: top;\n",
       "    }\n",
       "\n",
       "    .dataframe thead th {\n",
       "        text-align: right;\n",
       "    }\n",
       "</style>\n",
       "<table border=\"1\" class=\"dataframe\">\n",
       "  <thead>\n",
       "    <tr style=\"text-align: right;\">\n",
       "      <th></th>\n",
       "      <th>date</th>\n",
       "      <th>name</th>\n",
       "      <th>star</th>\n",
       "      <th>img</th>\n",
       "      <th>lowest_price</th>\n",
       "      <th>link</th>\n",
       "      <th>location</th>\n",
       "    </tr>\n",
       "  </thead>\n",
       "  <tbody>\n",
       "    <tr>\n",
       "      <th>0</th>\n",
       "      <td>2023-08-01</td>\n",
       "      <td>더펜션 502</td>\n",
       "      <td>9.0</td>\n",
       "      <td>https://search.pstatic.net/common/?src=https:/...</td>\n",
       "      <td>308000</td>\n",
       "      <td>https://hotels.naver.com/item?hotelFileName=ho...</td>\n",
       "      <td>기장군</td>\n",
       "    </tr>\n",
       "    <tr>\n",
       "      <th>1</th>\n",
       "      <td>2023-08-01</td>\n",
       "      <td>일광 라고마르 펜션</td>\n",
       "      <td>-1.0</td>\n",
       "      <td>https://search.pstatic.net/common/?src=https:/...</td>\n",
       "      <td>330000</td>\n",
       "      <td>https://hotels.naver.com/item?hotelFileName=ho...</td>\n",
       "      <td>기장군</td>\n",
       "    </tr>\n",
       "    <tr>\n",
       "      <th>2</th>\n",
       "      <td>2023-08-01</td>\n",
       "      <td>해오름펜션</td>\n",
       "      <td>9.6</td>\n",
       "      <td>https://search.pstatic.net/common/?src=https:/...</td>\n",
       "      <td>241979</td>\n",
       "      <td>https://hotels.naver.com/item?hotelFileName=ho...</td>\n",
       "      <td>기장군</td>\n",
       "    </tr>\n",
       "    <tr>\n",
       "      <th>3</th>\n",
       "      <td>2023-08-01</td>\n",
       "      <td>에스스테이펜션</td>\n",
       "      <td>-1.0</td>\n",
       "      <td>https://search.pstatic.net/common/?src=https:/...</td>\n",
       "      <td>183924</td>\n",
       "      <td>https://hotels.naver.com/item?hotelFileName=ho...</td>\n",
       "      <td>해운대구</td>\n",
       "    </tr>\n",
       "    <tr>\n",
       "      <th>4</th>\n",
       "      <td>2023-08-01</td>\n",
       "      <td>부산 비엔비 펜션 &amp; 패밀리 호텔</td>\n",
       "      <td>8.0</td>\n",
       "      <td>https://search.pstatic.net/common/?src=https:/...</td>\n",
       "      <td>77104</td>\n",
       "      <td>https://hotels.naver.com/item?hotelFileName=ho...</td>\n",
       "      <td>중구</td>\n",
       "    </tr>\n",
       "  </tbody>\n",
       "</table>\n",
       "</div>"
      ],
      "text/plain": [
       "         date                name  star  \\\n",
       "0  2023-08-01             더펜션 502   9.0   \n",
       "1  2023-08-01          일광 라고마르 펜션  -1.0   \n",
       "2  2023-08-01               해오름펜션   9.6   \n",
       "3  2023-08-01             에스스테이펜션  -1.0   \n",
       "4  2023-08-01  부산 비엔비 펜션 & 패밀리 호텔   8.0   \n",
       "\n",
       "                                                 img  lowest_price  \\\n",
       "0  https://search.pstatic.net/common/?src=https:/...        308000   \n",
       "1  https://search.pstatic.net/common/?src=https:/...        330000   \n",
       "2  https://search.pstatic.net/common/?src=https:/...        241979   \n",
       "3  https://search.pstatic.net/common/?src=https:/...        183924   \n",
       "4  https://search.pstatic.net/common/?src=https:/...         77104   \n",
       "\n",
       "                                                link location  \n",
       "0  https://hotels.naver.com/item?hotelFileName=ho...      기장군  \n",
       "1  https://hotels.naver.com/item?hotelFileName=ho...      기장군  \n",
       "2  https://hotels.naver.com/item?hotelFileName=ho...      기장군  \n",
       "3  https://hotels.naver.com/item?hotelFileName=ho...     해운대구  \n",
       "4  https://hotels.naver.com/item?hotelFileName=ho...       중구  "
      ]
     },
     "execution_count": 32,
     "metadata": {},
     "output_type": "execute_result"
    }
   ],
   "source": [
    "ps_location = ['기장군', '기장군', '기장군', '해운대구', '중구', '해운대구', '기장군', '기장군', '기장군', '기장군', '해운대구', '기장군', '기장군',\\\n",
    "    '기장군', '기장군', '기장군', '기장군', '해운대구', '해운대구', '기장군', '기장군', '기장군', '기장군', '기장군', '기장군']\n",
    "ps_name_dict = dict(zip(ps_names, ps_location))\n",
    "def locating(row):\n",
    "    return ps_name_dict[row]\n",
    "pension['location'] = pension.name.apply(locating)\n",
    "pension.head()"
   ]
  },
  {
   "cell_type": "code",
   "execution_count": 40,
   "metadata": {},
   "outputs": [],
   "source": [
    "# hotel, pension에 각각 숙소 유형 추가\n",
    "hotel['type'] = '0'\n",
    "pension['type'] = '1'"
   ]
  },
  {
   "cell_type": "code",
   "execution_count": 36,
   "metadata": {},
   "outputs": [
    {
     "data": {
      "text/plain": [
       "array([ True,  True,  True,  True,  True,  True,  True,  True])"
      ]
     },
     "execution_count": 36,
     "metadata": {},
     "output_type": "execute_result"
    }
   ],
   "source": [
    "hotel.columns == pension.columns"
   ]
  },
  {
   "cell_type": "code",
   "execution_count": 48,
   "metadata": {},
   "outputs": [],
   "source": [
    "hotel.date = hotel.date.astype('datetime64[ns]')"
   ]
  },
  {
   "cell_type": "code",
   "execution_count": 43,
   "metadata": {},
   "outputs": [
    {
     "name": "stdout",
     "output_type": "stream",
     "text": [
      "<class 'pandas.core.frame.DataFrame'>\n",
      "RangeIndex: 783 entries, 0 to 782\n",
      "Data columns (total 8 columns):\n",
      " #   Column        Non-Null Count  Dtype         \n",
      "---  ------        --------------  -----         \n",
      " 0   date          783 non-null    datetime64[ns]\n",
      " 1   name          783 non-null    object        \n",
      " 2   star          783 non-null    float64       \n",
      " 3   img           783 non-null    object        \n",
      " 4   lowest_price  783 non-null    int64         \n",
      " 5   link          783 non-null    object        \n",
      " 6   location      783 non-null    object        \n",
      " 7   type          783 non-null    object        \n",
      "dtypes: datetime64[ns](1), float64(1), int64(1), object(5)\n",
      "memory usage: 49.1+ KB\n"
     ]
    }
   ],
   "source": [
    "pension.date = pension.date.astype('datetime64[ns]')\n",
    "pension.info()"
   ]
  },
  {
   "cell_type": "code",
   "execution_count": 49,
   "metadata": {},
   "outputs": [
    {
     "data": {
      "text/html": [
       "<div>\n",
       "<style scoped>\n",
       "    .dataframe tbody tr th:only-of-type {\n",
       "        vertical-align: middle;\n",
       "    }\n",
       "\n",
       "    .dataframe tbody tr th {\n",
       "        vertical-align: top;\n",
       "    }\n",
       "\n",
       "    .dataframe thead th {\n",
       "        text-align: right;\n",
       "    }\n",
       "</style>\n",
       "<table border=\"1\" class=\"dataframe\">\n",
       "  <thead>\n",
       "    <tr style=\"text-align: right;\">\n",
       "      <th></th>\n",
       "      <th>date</th>\n",
       "      <th>name</th>\n",
       "      <th>star</th>\n",
       "      <th>img</th>\n",
       "      <th>lowest_price</th>\n",
       "      <th>link</th>\n",
       "      <th>location</th>\n",
       "      <th>type</th>\n",
       "    </tr>\n",
       "  </thead>\n",
       "  <tbody>\n",
       "    <tr>\n",
       "      <th>0</th>\n",
       "      <td>2023-08-01</td>\n",
       "      <td>라마다 앙코르 바이 윈덤 부산역</td>\n",
       "      <td>8.4</td>\n",
       "      <td>https://search.pstatic.net/common/?src=https:/...</td>\n",
       "      <td>143550</td>\n",
       "      <td>https://hotels.naver.com/item?hotelFileName=ho...</td>\n",
       "      <td>동구</td>\n",
       "      <td>0</td>\n",
       "    </tr>\n",
       "    <tr>\n",
       "      <th>1</th>\n",
       "      <td>2023-08-01</td>\n",
       "      <td>티티호텔</td>\n",
       "      <td>8.5</td>\n",
       "      <td>https://search.pstatic.net/common/?src=https:/...</td>\n",
       "      <td>103097</td>\n",
       "      <td>https://hotels.naver.com/item?hotelFileName=ho...</td>\n",
       "      <td>부산진구</td>\n",
       "      <td>0</td>\n",
       "    </tr>\n",
       "    <tr>\n",
       "      <th>2</th>\n",
       "      <td>2023-08-01</td>\n",
       "      <td>부산 비즈니스 호텔</td>\n",
       "      <td>8.6</td>\n",
       "      <td>https://search.pstatic.net/common/?src=https:/...</td>\n",
       "      <td>92936</td>\n",
       "      <td>https://hotels.naver.com/item?hotelFileName=ho...</td>\n",
       "      <td>부산진구</td>\n",
       "      <td>0</td>\n",
       "    </tr>\n",
       "    <tr>\n",
       "      <th>3</th>\n",
       "      <td>2023-08-01</td>\n",
       "      <td>아난티 힐튼 부산</td>\n",
       "      <td>8.6</td>\n",
       "      <td>https://search.pstatic.net/common/?src=https:/...</td>\n",
       "      <td>729628</td>\n",
       "      <td>https://hotels.naver.com/item?hotelFileName=ho...</td>\n",
       "      <td>기장군</td>\n",
       "      <td>0</td>\n",
       "    </tr>\n",
       "    <tr>\n",
       "      <th>4</th>\n",
       "      <td>2023-08-01</td>\n",
       "      <td>그랩 디 오션 송도</td>\n",
       "      <td>8.2</td>\n",
       "      <td>https://search.pstatic.net/common/?src=https:/...</td>\n",
       "      <td>158400</td>\n",
       "      <td>https://hotels.naver.com/item?hotelFileName=ho...</td>\n",
       "      <td>서구</td>\n",
       "      <td>0</td>\n",
       "    </tr>\n",
       "  </tbody>\n",
       "</table>\n",
       "</div>"
      ],
      "text/plain": [
       "        date               name  star  \\\n",
       "0 2023-08-01  라마다 앙코르 바이 윈덤 부산역   8.4   \n",
       "1 2023-08-01               티티호텔   8.5   \n",
       "2 2023-08-01         부산 비즈니스 호텔   8.6   \n",
       "3 2023-08-01          아난티 힐튼 부산   8.6   \n",
       "4 2023-08-01         그랩 디 오션 송도   8.2   \n",
       "\n",
       "                                                 img  lowest_price  \\\n",
       "0  https://search.pstatic.net/common/?src=https:/...        143550   \n",
       "1  https://search.pstatic.net/common/?src=https:/...        103097   \n",
       "2  https://search.pstatic.net/common/?src=https:/...         92936   \n",
       "3  https://search.pstatic.net/common/?src=https:/...        729628   \n",
       "4  https://search.pstatic.net/common/?src=https:/...        158400   \n",
       "\n",
       "                                                link location type  \n",
       "0  https://hotels.naver.com/item?hotelFileName=ho...       동구    0  \n",
       "1  https://hotels.naver.com/item?hotelFileName=ho...     부산진구    0  \n",
       "2  https://hotels.naver.com/item?hotelFileName=ho...     부산진구    0  \n",
       "3  https://hotels.naver.com/item?hotelFileName=ho...      기장군    0  \n",
       "4  https://hotels.naver.com/item?hotelFileName=ho...       서구    0  "
      ]
     },
     "execution_count": 49,
     "metadata": {},
     "output_type": "execute_result"
    }
   ],
   "source": [
    "accomadation = pd.concat([hotel, pension], ignore_index=True)\n",
    "accomadation.head()"
   ]
  },
  {
   "cell_type": "code",
   "execution_count": 50,
   "metadata": {},
   "outputs": [
    {
     "name": "stdout",
     "output_type": "stream",
     "text": [
      "<class 'pandas.core.frame.DataFrame'>\n",
      "RangeIndex: 4983 entries, 0 to 4982\n",
      "Data columns (total 8 columns):\n",
      " #   Column        Non-Null Count  Dtype         \n",
      "---  ------        --------------  -----         \n",
      " 0   date          4983 non-null   datetime64[ns]\n",
      " 1   name          4983 non-null   object        \n",
      " 2   star          4983 non-null   float64       \n",
      " 3   img           4983 non-null   object        \n",
      " 4   lowest_price  4983 non-null   int64         \n",
      " 5   link          4983 non-null   object        \n",
      " 6   location      4983 non-null   object        \n",
      " 7   type          4983 non-null   object        \n",
      "dtypes: datetime64[ns](1), float64(1), int64(1), object(5)\n",
      "memory usage: 311.6+ KB\n"
     ]
    }
   ],
   "source": [
    "accomadation.info()"
   ]
  },
  {
   "cell_type": "code",
   "execution_count": 51,
   "metadata": {},
   "outputs": [],
   "source": [
    "accomadation.to_csv('accomadation.csv', index=False)"
   ]
  },
  {
   "cell_type": "code",
   "execution_count": null,
   "metadata": {},
   "outputs": [],
   "source": []
  }
 ],
 "metadata": {
  "kernelspec": {
   "display_name": "section4_pj",
   "language": "python",
   "name": "python3"
  },
  "language_info": {
   "codemirror_mode": {
    "name": "ipython",
    "version": 3
   },
   "file_extension": ".py",
   "mimetype": "text/x-python",
   "name": "python",
   "nbconvert_exporter": "python",
   "pygments_lexer": "ipython3",
   "version": "3.8.16"
  },
  "orig_nbformat": 4
 },
 "nbformat": 4,
 "nbformat_minor": 2
}
